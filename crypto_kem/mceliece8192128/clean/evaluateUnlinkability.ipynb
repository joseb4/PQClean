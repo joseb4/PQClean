{
 "cells": [
  {
   "cell_type": "markdown",
   "id": "c5b07a0a",
   "metadata": {},
   "source": [
    "# Unlikability\n",
    "$$D_\\leftrightarrow(s)= 2\\frac{LR(s)\\cdot \\omega}{1+LR(s)\\cdot \\omega}-1$$\n",
    "where, if we do not have any previous information we assume $\\omega = 1$. $s$ is a linkability function, for example, the HammingDistance (or any other function that might be used for linking).\n",
    "$$D^{sys}_\\leftrightarrow = \\int p(s|H_m)\\cdot D_\\leftrightarrow (s) ds$$\n",
    "$H_m = \\{\\text{} \\}"
   ]
  },
  {
   "cell_type": "code",
   "execution_count": null,
   "id": "75658366",
   "metadata": {
    "vscode": {
     "languageId": "plaintext"
    }
   },
   "outputs": [],
   "source": []
  }
 ],
 "metadata": {
  "language_info": {
   "name": "python"
  }
 },
 "nbformat": 4,
 "nbformat_minor": 5
}
